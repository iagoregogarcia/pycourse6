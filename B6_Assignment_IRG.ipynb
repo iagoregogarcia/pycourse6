{
 "cells": [
  {
   "cell_type": "markdown",
   "metadata": {
    "id": "Gdr1bJFhtAp1"
   },
   "source": [
    "# Block 6 Assignment: PhD Express\n",
    "\n",
    "Welcome to this assignment! Today, we will both create an experiment and analyse the results.\n",
    "We will guide you throughout this process - once it is done, your only job will be to ask ChatGPT to write 200 pages for your thesis, and you should get your PhD by the end of the day."
   ]
  },
  {
   "cell_type": "markdown",
   "metadata": {
    "id": "sPe2c7VvtAp2"
   },
   "source": [
    "## 6.1 Create your stimuli\n",
    "The behavioural experiment we will develop today is very simple. We will give a list of words to participants.\n",
    "For each word, they have to grade, on a scale from 1 to 5, how much each word makes them happy.\n",
    "\n",
    "What are our hypotheses? We will leave you invent something for the thesis."
   ]
  },
  {
   "cell_type": "markdown",
   "metadata": {
    "id": "NXdEpZ5xtAp2"
   },
   "source": [
    "### 6.1.1 Check the list of words\n",
    "First, we need to check our list of words. We provide you a file called `words.txt`, containing words in Spanish.\n",
    "\n",
    "In this file, each word is on a new line, separated from each other by a blank line.\n",
    "\n",
    "* Read the file\n",
    "* Print the words in alphabetical order\n",
    "* Save these words into a new file named `words_alphabetical.txt`.\n",
    "\n",
    "Compared to the original, this new file should separate the words by a single line break, this time without the blank lines."
   ]
  },
  {
   "cell_type": "code",
   "execution_count": 1,
   "metadata": {
    "id": "iMVWP9PgtAp3"
   },
   "outputs": [
    {
     "name": "stdout",
     "output_type": "stream",
     "text": [
      "['aceituna', 'acordeón', 'bebé', 'bombero', 'chocolate', 'coche', 'cubo', 'diablo', 'escoba', 'escuela', 'gato', 'guerra', 'miel', 'mosca', 'muñeca', 'nevera', 'pizza', 'reloj', 'saxofón', 'ventana']\n"
     ]
    }
   ],
   "source": [
    "with open(\"C:/Users/Iago/Desktop/Pycourse/B6_Assignment_Material/words.txt\", encoding=\"UTF-8\") as f:\n",
    "    content = f.read()\n",
    "    list_words = content.split(\"\\n\")\n",
    "    while '' in list_words:\n",
    "        list_words.remove('')\n",
    "    list_words.sort()\n",
    "\n",
    "print(list_words)\n",
    "\n",
    "with open(\"C:/Users/Iago/Desktop/Pycourse/B6_Assignment_Material/alphabetical_words.txt\", \"a\", encoding=\"UTF-8\") as f:\n",
    "    for word in list_words:\n",
    "        f.write(word)\n",
    "        f.write('\\n')"
   ]
  },
  {
   "cell_type": "markdown",
   "metadata": {
    "id": "EpCFU5ZMtAp3"
   },
   "source": [
    "### 6.1.2 Select your words\n",
    "For the experiment, we only want to keep words that are above a certain frequency in the Spanish language.\n",
    "First, you will need to get the frequency of each word:\n",
    "* Go to the [BCBL Espal database](https://www.bcbl.eu/databases/espal/).\n",
    "* Click on **Words to Properties**.\n",
    "* At the top, click on the **Browse...** button next to \"File with Items:\"\n",
    "* Select your `words_alphabetical.txt` file.\n",
    "* Under \"Word Frequency\", select **Word frequency per million**.\n",
    "* Click on **Submit**.\n",
    "* Download your file.\n",
    "\n",
    "Once you have your file, open it in Python, and create a new list `words_to_keep` containing only the words having a frequency over 10."
   ]
  },
  {
   "cell_type": "code",
   "execution_count": 53,
   "metadata": {
    "id": "if9hJ3UMtAp3"
   },
   "outputs": [
    {
     "name": "stdout",
     "output_type": "stream",
     "text": [
      "['bebé', 'chocolate', 'coche', 'diablo', 'escuela', 'gato', 'guerra', 'miel', 'reloj', 'ventana']\n"
     ]
    }
   ],
   "source": [
    "import re\n",
    "with open(\"C:/Users/Iago/Desktop/Pycourse/B6_Assignment_Material/wordlist_out.txt\", encoding=\"UTF-8\") as f:\n",
    "    content = f.read()\n",
    "    list_word_frq = re.split('\\t|\\n', content)\n",
    "    while '' in list_word_frq:\n",
    "        list_word_frq.remove('')\n",
    "    words_to_keep = []\n",
    "    for i in range(3, len(list_word_frq), 2):\n",
    "        if float(list_word_frq[i]) > 10: words_to_keep.append(list_word_frq[i-1])\n",
    "\n",
    "print(words_to_keep)"
   ]
  },
  {
   "cell_type": "markdown",
   "metadata": {
    "id": "-P6S_q8OtAp4"
   },
   "source": [
    "### 6.1.3 Randomize your stimuli\n",
    "Now that we have our stimuli, we need to create our word lists for each of our 10 participants.\n",
    "\n",
    "Create a folder named `word_lists`.\n",
    "\n",
    "I this folder, you will create 10 files named `word_list_XX.txt` (where XX is between 01 and 10 - be sure to have a [leading zero](https://www.w3schools.com/python/ref_string_zfill.asp)!)\n",
    "\n",
    "Use `os.path.join` to join the folder name with each file.\n",
    "\n",
    "Make sure that each file has the list of words randomized.\n",
    "\n",
    "For extra-credit, ensure that across all subjects, **each word appears at each position** (e.g. if `\"gato\"` appears at the first position for subject 1, it should never appear at the first position for every other subject)."
   ]
  },
  {
   "cell_type": "code",
   "execution_count": 21,
   "metadata": {},
   "outputs": [
    {
     "name": "stdout",
     "output_type": "stream",
     "text": [
      "01\n"
     ]
    }
   ],
   "source": [
    "number_name = '0' + str(1)\n",
    "print (number_name)"
   ]
  },
  {
   "cell_type": "code",
   "execution_count": 36,
   "metadata": {
    "id": "VNkPjsjTtAp4"
   },
   "outputs": [],
   "source": [
    "import random\n",
    "import os\n",
    "os.makedirs('C:/Users/Iago/Desktop/Pycourse/B6_Assignment_Material/word_lists', exist_ok=True)\n",
    "folder = 'C:/Users/Iago/Desktop/Pycourse/B6_Assignment_Material/word_lists'\n",
    "\n",
    "for i in range(1,10):\n",
    "    if i<10:\n",
    "        file_name = 'word_list_' + '0' + str(i) + '.txt'\n",
    "    else: file_name = 'word_list_' + str(i) + '.txt'\n",
    "    with open(os.path.join(folder, file_name), \"a\", encoding=\"UTF-8\") as f:\n",
    "        random.shuffle(words_to_keep)\n",
    "        for word in words_to_keep:\n",
    "            f.write(word)\n",
    "            f.write('\\n')         "
   ]
  },
  {
   "cell_type": "markdown",
   "metadata": {
    "id": "pzCUJbfDtAp4"
   },
   "source": [
    "## 6.2 Analyse the results"
   ]
  },
  {
   "cell_type": "markdown",
   "metadata": {
    "id": "sHxhLV2ftAp5"
   },
   "source": [
    "### 6.2.1 Rename your files\n",
    "Thanks to the power of high-speed internet, the data has already been collected for your 10 participants!\n",
    "\n",
    "Two different people helped you collect the data, and both had a different naming scheme:\n",
    "* One set the name of the files as the participant ID.\n",
    "* The other used the participant ID, preceeded by \"WE_\" (for Word Experiment).\n",
    "\n",
    "There are also some other files (`participants_list.txt` and `readme.md`) that we don't want to use.\n",
    "\n",
    "Using your skills in Python:\n",
    "* List all the files present in `experiment_results`.\n",
    "* Copy the TSV files to a new folder `experiment_results_renamed` (ignore the other files).\n",
    "* In the process, in the new folder, rename the files starting with `WE_` to only keep the participant ID."
   ]
  },
  {
   "cell_type": "code",
   "execution_count": 42,
   "metadata": {
    "id": "3WpQKFKYtAp5"
   },
   "outputs": [],
   "source": [
    "import os\n",
    "def get_files_with_extension (extension, path):\n",
    "    total_list = os.listdir(path)\n",
    "    extension_list = []\n",
    "    for file in total_list:\n",
    "        file_split = file.split(\".\")\n",
    "        if file_split[-1] == extension:\n",
    "            extension_list.append(file)\n",
    "    return extension_list"
   ]
  },
  {
   "cell_type": "code",
   "execution_count": 45,
   "metadata": {},
   "outputs": [],
   "source": [
    "tsv_list = get_files_with_extension ('tsv', 'C:/Users/Iago/Desktop/Pycourse/B6_Assignment_Material/experiment_results')\n",
    "os.makedirs('C:/Users/Iago/Desktop/Pycourse/B6_Assignment_Material/experiment_results_renamed', exist_ok=True)\n",
    "original_folder = 'C:/Users/Iago/Desktop/Pycourse/B6_Assignment_Material/experiment_results'\n",
    "renamed_folder = 'C:/Users/Iago/Desktop/Pycourse/B6_Assignment_Material/experiment_results_renamed'\n",
    "for file in tsv_list:\n",
    "    if 'WE_' in file:\n",
    "        os.rename(os.path.join(original_folder, file), os.path.join(renamed_folder, file.replace('WE_', '')))\n",
    "    else:\n",
    "        os.rename(os.path.join(original_folder, file), os.path.join(renamed_folder, file))"
   ]
  },
  {
   "cell_type": "markdown",
   "metadata": {
    "id": "Jqa5MfhDtAp6"
   },
   "source": [
    "### 6.2.2 Get the participants names\n",
    "\n",
    "Now that you have all the files that are of interest, open them, and gather the names of the participants. They are all located at the first line of each file, separated by a tab from \"Name:\".\n",
    "\n",
    "Print all of the names on successive lines."
   ]
  },
  {
   "cell_type": "code",
   "execution_count": 10,
   "metadata": {
    "id": "mqwJzetptAp6"
   },
   "outputs": [
    {
     "name": "stdout",
     "output_type": "stream",
     "text": [
      "['Chris P. Bacon', 'Dan Druff', 'Frank N. Stein', 'Jack Pott', 'Mack Aroney', 'Paige Turner', 'Russel Sprout', 'Sue Flay', 'Warren Peace', 'Zoltan Pepper']\n"
     ]
    }
   ],
   "source": [
    "import os\n",
    "import re\n",
    "renamed_folder = 'C:/Users/Iago/Desktop/Pycourse/B6_Assignment_Material/experiment_results_renamed'\n",
    "with open(\"C:/Users/Iago/Desktop/Pycourse/B6_Assignment_Material/participants_names.txt\",\"a\", encoding=\"UTF-8\") as f:\n",
    "    list_names = []\n",
    "    for file in os.listdir(renamed_folder):\n",
    "        with open(os.path.join(renamed_folder, file), encoding=\"UTF-8\") as ff:\n",
    "            content = ff.read()\n",
    "            list_result_doc = re.split('\\t|\\n|:', content)\n",
    "            list_names.append(list_result_doc[2])\n",
    "    print(list_names)\n",
    "    for name in list_names:\n",
    "            f.write(name)\n",
    "            f.write('\\n')"
   ]
  },
  {
   "cell_type": "markdown",
   "metadata": {
    "id": "iuKtd2fptAp6"
   },
   "source": [
    "### 6.2.3 Get the results for one word\n",
    "\n",
    "Create a function `get_average_grade` that takes a word as a parameter, and returns the average happiness grade given to this word by the participants."
   ]
  },
  {
   "cell_type": "code",
   "execution_count": 42,
   "metadata": {
    "id": "5BKQeMCjtAp6"
   },
   "outputs": [],
   "source": [
    "import os\n",
    "import re\n",
    "import numpy as np\n",
    "renamed_folder = 'C:/Users/Iago/Desktop/Pycourse/B6_Assignment_Material/experiment_results_renamed'\n",
    "files_in_folder = os.listdir(renamed_folder)\n",
    "\n",
    "def get_average_grade (word):\n",
    "    files_in_folder = os.listdir(renamed_folder)\n",
    "    grades_array = np.nan * np.ones(len(files_in_folder)) # initialising an np-array with NaNs\n",
    "    for i in range(len(files_in_folder)):        \n",
    "        with open(os.path.join(renamed_folder, files_in_folder[i]), encoding=\"UTF-8\") as f:\n",
    "            content = f.read()\n",
    "            list_result_doc = re.split('\\t|\\n|:', content)\n",
    "            grades_array[i] = list_result_doc[list_result_doc.index(word)+1]\n",
    "    return grades_array.mean(0)"
   ]
  },
  {
   "cell_type": "code",
   "execution_count": 48,
   "metadata": {},
   "outputs": [
    {
     "name": "stdout",
     "output_type": "stream",
     "text": [
      "8.2\n",
      "5.5\n"
     ]
    }
   ],
   "source": [
    "print(get_average_grade('chocolate'))\n",
    "print(get_average_grade('ventana'))"
   ]
  },
  {
   "cell_type": "markdown",
   "metadata": {
    "id": "v0oxDb2ztAp6"
   },
   "source": [
    "### 6.2.4 Plot the results for each word\n",
    "\n",
    "Now that you have a function to get the average grade for one word, create a bar plot that plots the average grade for each word.\n",
    "\n",
    "Organize your bar plot so that the words are in decreasing order of happiness."
   ]
  },
  {
   "cell_type": "code",
   "execution_count": 65,
   "metadata": {
    "id": "261X21EYtAp7"
   },
   "outputs": [
    {
     "data": {
      "image/png": "[encoded data removed]",
      "text/plain": [
       "<Figure size 640x480 with 1 Axes>"
      ]
     },
     "metadata": {},
     "output_type": "display_data"
    }
   ],
   "source": [
    "import os\n",
    "import re\n",
    "import numpy as np\n",
    "import matplotlib.pyplot as plt\n",
    "renamed_folder = 'C:/Users/Iago/Desktop/Pycourse/B6_Assignment_Material/experiment_results_renamed'\n",
    "files_in_folder = os.listdir(renamed_folder)\n",
    "\n",
    "words_to_keep_ordered = sorted(words_to_keep, key=get_average_grade, reverse=True)\n",
    "\n",
    "x = words_to_keep_ordered\n",
    "y = []\n",
    "for word in words_to_keep_ordered:\n",
    "    y.append(get_average_grade(word))\n",
    "plt.bar(x, y)\n",
    "plt.xlabel('Words')\n",
    "plt.ylabel('Grade')\n",
    "plt.title('Grade of each word')\n",
    "plt.show()"
   ]
  }
 ],
 "metadata": {
  "colab": {
   "provenance": []
  },
  "kernelspec": {
   "display_name": "Python 3 (ipykernel)",
   "language": "python",
   "name": "python3"
  },
  "language_info": {
   "codemirror_mode": {
    "name": "ipython",
    "version": 3
   },
   "file_extension": ".py",
   "mimetype": "text/x-python",
   "name": "python",
   "nbconvert_exporter": "python",
   "pygments_lexer": "ipython3",
   "version": "3.11.5"
  }
 },
 "nbformat": 4,
 "nbformat_minor": 4
}
